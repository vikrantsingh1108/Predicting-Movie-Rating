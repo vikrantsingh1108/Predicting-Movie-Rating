{
 "cells": [
  {
   "cell_type": "code",
   "execution_count": 1,
   "metadata": {},
   "outputs": [
    {
     "name": "stderr",
     "output_type": "stream",
     "text": [
      "/usr/local/lib/python2.7/dist-packages/sklearn/cross_validation.py:41: DeprecationWarning: This module was deprecated in version 0.18 in favor of the model_selection module into which all the refactored classes and functions are moved. Also note that the interface of the new CV iterators are different from that of this module. This module will be removed in 0.20.\n",
      "  \"This module will be removed in 0.20.\", DeprecationWarning)\n"
     ]
    }
   ],
   "source": [
    "import numpy as np\n",
    "import pandas as pd\n",
    "import matplotlib.pyplot as plt\n",
    "%matplotlib inline\n",
    "from sklearn import ensemble\n",
    "from sklearn.cross_validation import cross_val_score\n",
    "from sklearn import linear_model"
   ]
  },
  {
   "cell_type": "code",
   "execution_count": 2,
   "metadata": {},
   "outputs": [
    {
     "data": {
      "text/html": [
       "<div>\n",
       "<style>\n",
       "    .dataframe thead tr:only-child th {\n",
       "        text-align: right;\n",
       "    }\n",
       "\n",
       "    .dataframe thead th {\n",
       "        text-align: left;\n",
       "    }\n",
       "\n",
       "    .dataframe tbody tr th {\n",
       "        vertical-align: top;\n",
       "    }\n",
       "</style>\n",
       "<table border=\"1\" class=\"dataframe\">\n",
       "  <thead>\n",
       "    <tr style=\"text-align: right;\">\n",
       "      <th></th>\n",
       "      <th>ID</th>\n",
       "      <th>user</th>\n",
       "      <th>movie</th>\n",
       "      <th>rating</th>\n",
       "      <th>timestamp</th>\n",
       "    </tr>\n",
       "  </thead>\n",
       "  <tbody>\n",
       "    <tr>\n",
       "      <th>0</th>\n",
       "      <td>1802700</td>\n",
       "      <td>13239</td>\n",
       "      <td>367</td>\n",
       "      <td>5.0</td>\n",
       "      <td>8.452071e+08</td>\n",
       "    </tr>\n",
       "    <tr>\n",
       "      <th>1</th>\n",
       "      <td>1290352</td>\n",
       "      <td>9469</td>\n",
       "      <td>6323</td>\n",
       "      <td>3.5</td>\n",
       "      <td>1.120504e+09</td>\n",
       "    </tr>\n",
       "    <tr>\n",
       "      <th>2</th>\n",
       "      <td>2660900</td>\n",
       "      <td>19250</td>\n",
       "      <td>364</td>\n",
       "      <td>4.0</td>\n",
       "      <td>8.402181e+08</td>\n",
       "    </tr>\n",
       "    <tr>\n",
       "      <th>3</th>\n",
       "      <td>2563669</td>\n",
       "      <td>18581</td>\n",
       "      <td>6281</td>\n",
       "      <td>2.0</td>\n",
       "      <td>1.063980e+09</td>\n",
       "    </tr>\n",
       "    <tr>\n",
       "      <th>4</th>\n",
       "      <td>763295</td>\n",
       "      <td>5798</td>\n",
       "      <td>1569</td>\n",
       "      <td>3.0</td>\n",
       "      <td>1.136088e+09</td>\n",
       "    </tr>\n",
       "  </tbody>\n",
       "</table>\n",
       "</div>"
      ],
      "text/plain": [
       "        ID   user  movie  rating     timestamp\n",
       "0  1802700  13239    367     5.0  8.452071e+08\n",
       "1  1290352   9469   6323     3.5  1.120504e+09\n",
       "2  2660900  19250    364     4.0  8.402181e+08\n",
       "3  2563669  18581   6281     2.0  1.063980e+09\n",
       "4   763295   5798   1569     3.0  1.136088e+09"
      ]
     },
     "execution_count": 2,
     "metadata": {},
     "output_type": "execute_result"
    }
   ],
   "source": [
    "data = pd.read_csv(\"train.csv\")\n",
    "data.head(5)"
   ]
  },
  {
   "cell_type": "code",
   "execution_count": 3,
   "metadata": {},
   "outputs": [
    {
     "data": {
      "image/png": "[encoded data removed]",
      "text/plain": [
       "<matplotlib.figure.Figure at 0x7f3a410a3d10>"
      ]
     },
     "metadata": {},
     "output_type": "display_data"
    }
   ],
   "source": [
    "movie_rating_plot = data.plot.hist(x = 'movie', y = 'rating',bins=20)"
   ]
  },
  {
   "cell_type": "code",
   "execution_count": 4,
   "metadata": {},
   "outputs": [
    {
     "data": {
      "text/plain": [
       "ID           0\n",
       "user         0\n",
       "movie        0\n",
       "rating       0\n",
       "timestamp    0\n",
       "dtype: int64"
      ]
     },
     "execution_count": 4,
     "metadata": {},
     "output_type": "execute_result"
    }
   ],
   "source": [
    "data.isnull().sum()"
   ]
  },
  {
   "cell_type": "code",
   "execution_count": 4,
   "metadata": {},
   "outputs": [],
   "source": [
    "X = data.drop('rating', axis=1)"
   ]
  },
  {
   "cell_type": "code",
   "execution_count": 5,
   "metadata": {},
   "outputs": [],
   "source": [
    "y = data['rating']"
   ]
  },
  {
   "cell_type": "code",
   "execution_count": 6,
   "metadata": {},
   "outputs": [
    {
     "data": {
      "text/plain": [
       "(2500014, 4)"
      ]
     },
     "execution_count": 6,
     "metadata": {},
     "output_type": "execute_result"
    }
   ],
   "source": [
    "test = pd.read_csv('test.csv')\n",
    "test.shape"
   ]
  },
  {
   "cell_type": "code",
   "execution_count": 7,
   "metadata": {},
   "outputs": [
    {
     "name": "stdout",
     "output_type": "stream",
     "text": [
      "('Train', (900, 4), 'Test', (100, 4))\n"
     ]
    }
   ],
   "source": [
    "#This step can be excluded when working will separate train and test file.\n",
    "#If we want to test the model with small sample then this step can be helpful.\n",
    "from sklearn.model_selection import train_test_split\n",
    "X_train, X_test, Y_train, Y_test = train_test_split(\n",
    "    X, y, test_size=0.10, random_state=42)\n",
    "print('Train', X_train.shape, 'Test', X_test.shape)"
   ]
  },
  {
   "cell_type": "code",
   "execution_count": 8,
   "metadata": {
    "collapsed": true
   },
   "outputs": [
    {
     "name": "stdout",
     "output_type": "stream",
     "text": [
      "('Training Score GradientBoosting: ', 0.23516999868535959)\n",
      "('Test Score GradientBoosting: ', -0.16303024395790566)\n",
      "('Prediction:', ('ID', array([ 3.49133646,  3.48766932,  3.66420658,  3.45296921,  3.11529111,\n",
      "        3.54157238,  2.52904971,  3.53282778,  3.6722612 ,  3.39606311,\n",
      "        3.63836916,  3.47796769,  3.51630699,  3.90776895,  3.50299485,\n",
      "        3.89049892,  3.70203133,  3.28193604,  3.8049057 ,  2.94311905,\n",
      "        3.52322397,  3.2887948 ,  3.30465975,  3.39895926,  3.59314896,\n",
      "        3.52697849,  3.93623506,  3.40870241,  3.55723655,  3.64099957,\n",
      "        3.12778213,  2.23377016,  3.5117914 ,  2.7575716 ,  3.53124561,\n",
      "        3.22626831,  3.81934831,  3.38333543,  3.34788499,  3.16845818,\n",
      "        3.0889947 ,  2.3040915 ,  3.6530458 ,  3.25272498,  3.41701953,\n",
      "        3.48414391,  2.96883244,  3.32699   ,  3.38628231,  3.61339113,\n",
      "        3.65402636,  3.30484741,  3.3215106 ,  3.30484741,  3.37127446,\n",
      "        3.56797194,  3.39241209,  3.35600383,  3.43996815,  3.44176724,\n",
      "        3.13204404,  3.26137147,  3.35521742,  3.48413711,  3.47887594,\n",
      "        3.447743  ,  3.57876935,  3.45922643,  3.46260323,  3.00564718,\n",
      "        3.44176724,  3.69192496,  3.72744632,  3.59470574,  3.54048726,\n",
      "        3.81480849,  3.48065401,  3.33648175,  3.73031837,  3.41229436,\n",
      "        3.38961323,  3.50213631,  3.70057261,  3.6282411 ,  3.70362945,\n",
      "        3.38420091,  3.01627973,  3.08788882,  3.467374  ,  2.56267596,\n",
      "        3.36046431,  3.45922643,  3.10372898,  3.33793587,  3.33427274,\n",
      "        3.15188098,  3.29808104,  4.02601776,  3.34829476,  3.67265659])))\n"
     ]
    }
   ],
   "source": [
    "gbr = ensemble.GradientBoostingRegressor(n_estimators=500, learning_rate = .01)\n",
    "gbr.fit(X_train,Y_train)\n",
    "ypred = gbr.predict(X_test)\n",
    "print (\"Training Score GradientBoosting: \", (gbr.score(X_train,Y_train)))\n",
    "print (\"Test Score GradientBoosting: \" , (gbr.score(X_test,Y_test)))"
   ]
  },
  {
   "cell_type": "code",
   "execution_count": 8,
   "metadata": {},
   "outputs": [
    {
     "name": "stdout",
     "output_type": "stream",
     "text": [
      "('Training Score RandomForest: ', '0.868128124638')\n"
     ]
    }
   ],
   "source": [
    "rf=ensemble.RandomForestRegressor(n_estimators=500,oob_score=True) \n",
    "rf.fit(X,y)\n",
    "ypred = rf.predict(test)\n",
    "print (\"Training Score RandomForest: \", str(rf.score(X,y)))\n",
    "print (\"Cross Validation (10 fold) Score: \" , np.mean(cross_val_score(rf, X, y, cv=10)))"
   ]
  },
  {
   "cell_type": "code",
   "execution_count": 18,
   "metadata": {},
   "outputs": [
    {
     "data": {
      "text/plain": [
       "521    7923358\n",
       "737    1997843\n",
       "740    1892317\n",
       "660    3543420\n",
       "411    7438720\n",
       "Name: ID, dtype: int64"
      ]
     },
     "execution_count": 18,
     "metadata": {},
     "output_type": "execute_result"
    }
   ],
   "source": [
    "X_test['ID'].head(5)"
   ]
  },
  {
   "cell_type": "code",
   "execution_count": 9,
   "metadata": {},
   "outputs": [
    {
     "data": {
      "text/html": [
       "<div>\n",
       "<style>\n",
       "    .dataframe thead tr:only-child th {\n",
       "        text-align: right;\n",
       "    }\n",
       "\n",
       "    .dataframe thead th {\n",
       "        text-align: left;\n",
       "    }\n",
       "\n",
       "    .dataframe tbody tr th {\n",
       "        vertical-align: top;\n",
       "    }\n",
       "</style>\n",
       "<table border=\"1\" class=\"dataframe\">\n",
       "  <thead>\n",
       "    <tr style=\"text-align: right;\">\n",
       "      <th></th>\n",
       "      <th>ID</th>\n",
       "      <th>rating</th>\n",
       "    </tr>\n",
       "  </thead>\n",
       "  <tbody>\n",
       "    <tr>\n",
       "      <th>0</th>\n",
       "      <td>223392</td>\n",
       "      <td>3.690</td>\n",
       "    </tr>\n",
       "    <tr>\n",
       "      <th>1</th>\n",
       "      <td>5165515</td>\n",
       "      <td>2.945</td>\n",
       "    </tr>\n",
       "    <tr>\n",
       "      <th>2</th>\n",
       "      <td>9414680</td>\n",
       "      <td>4.073</td>\n",
       "    </tr>\n",
       "    <tr>\n",
       "      <th>3</th>\n",
       "      <td>2964100</td>\n",
       "      <td>3.550</td>\n",
       "    </tr>\n",
       "    <tr>\n",
       "      <th>4</th>\n",
       "      <td>4233422</td>\n",
       "      <td>3.638</td>\n",
       "    </tr>\n",
       "  </tbody>\n",
       "</table>\n",
       "</div>"
      ],
      "text/plain": [
       "        ID  rating\n",
       "0   223392   3.690\n",
       "1  5165515   2.945\n",
       "2  9414680   4.073\n",
       "3  2964100   3.550\n",
       "4  4233422   3.638"
      ]
     },
     "execution_count": 9,
     "metadata": {},
     "output_type": "execute_result"
    }
   ],
   "source": [
    "test_id = test['ID']\n",
    "submit = pd.DataFrame()\n",
    "submit['ID']=test_id\n",
    "submit['rating'] = ypred\n",
    "submit.to_csv('submission.csv', index = False)\n",
    "submit.head()"
   ]
  },
  {
   "cell_type": "code",
   "execution_count": null,
   "metadata": {},
   "outputs": [],
   "source": []
  }
 ],
 "metadata": {
  "kernelspec": {
   "display_name": "Python 2",
   "language": "python",
   "name": "python2"
  },
  "language_info": {
   "codemirror_mode": {
    "name": "ipython",
    "version": 2
   },
   "file_extension": ".py",
   "mimetype": "text/x-python",
   "name": "python",
   "nbconvert_exporter": "python",
   "pygments_lexer": "ipython2",
   "version": "2.7.13"
  }
 },
 "nbformat": 4,
 "nbformat_minor": 2
}
